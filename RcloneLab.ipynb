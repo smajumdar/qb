{
  "nbformat": 4,
  "nbformat_minor": 0,
  "metadata": {
    "colab": {
      "name": "RcloneLab",
      "version": "0.3.2",
      "provenance": [],
      "collapsed_sections": [
        "6I2huqscJEPn",
        "fkaNFMaxHDWz",
        "_lxNNpMCqYT4",
        "5-5ksQslqmYy"
      ],
      "toc_visible": true,
      "include_colab_link": true
    },
    "kernelspec": {
      "name": "python3",
      "display_name": "Python 3"
    },
    "accelerator": "GPU"
  },
  "cells": [
    {
      "cell_type": "markdown",
      "metadata": {
        "id": "view-in-github",
        "colab_type": "text"
      },
      "source": [
        "<a href=\"https://colab.research.google.com/github/MinorMole/RcloneLab/blob/master/RcloneLab.ipynb\" target=\"_parent\"><img src=\"https://colab.research.google.com/assets/colab-badge.svg\" alt=\"Open In Colab\"/></a>"
      ]
    },
    {
      "cell_type": "markdown",
      "metadata": {
        "id": "HGctdySsIGFS",
        "colab_type": "text"
      },
      "source": [
        "#### 📚 For more information please visit our [GitHub](https://github.com/MinorMole/RcloneLab/).\n"
      ]
    },
    {
      "cell_type": "markdown",
      "metadata": {
        "id": "6I2huqscJEPn",
        "colab_type": "text"
      },
      "source": [
        "# <img src='https://minormole.github.io/RcloneLab/img/title_rclonelab.png' height=\"45\" alt=\"RcloneLab\"/>"
      ]
    },
    {
      "cell_type": "code",
      "metadata": {
        "id": "iroeLPFdXbif",
        "colab_type": "code",
        "cellView": "form",
        "colab": {}
      },
      "source": [
        "# ============================= FORM ============================= #\n",
        "#@markdown <h3>📝 Note: Run this cell and relax.</h3>\n",
        "Old_Version = False #@param {type:\"boolean\"}\n",
        "Install_File_Manager = False #@param {type:\"boolean\"}\n",
        "# ================================================================ #\n",
        "\n",
        "import os, psutil, IPython, uuid, time\n",
        "import ipywidgets as widgets\n",
        "\n",
        "from IPython.display import HTML, clear_output\n",
        "from google.colab import output\n",
        "\n",
        "SuccessRun = widgets.Button(\n",
        "    description='✔ Successfully',\n",
        "    disabled=True,\n",
        "    button_style='success'\n",
        ")\n",
        "\n",
        "UnsuccessfullyRun = widgets.Button(\n",
        "    description='✘ Unsuccessfully',\n",
        "    disabled=True,\n",
        "    button_style='danger'\n",
        ")\n",
        "\n",
        "class MakeButton(object):\n",
        "  def __init__(self, title, callback):\n",
        "    self._title = title\n",
        "    self._callback = callback\n",
        "  def _repr_html_(self):\n",
        "    callback_id = 'button-' + str(uuid.uuid4())\n",
        "    output.register_callback(callback_id, self._callback)\n",
        "    template = \"\"\"<button class=\"p-Widget jupyter-widgets jupyter-button widget-button mod-info\" id=\"{callback_id}\">{title}</button>\n",
        "        <script>\n",
        "          document.querySelector(\"#{callback_id}\").onclick = (e) => {{\n",
        "            google.colab.kernel.invokeFunction('{callback_id}', [], {{}})\n",
        "            e.preventDefault();\n",
        "          }};\n",
        "        </script>\"\"\"\n",
        "    html = template.format(title=self._title, callback_id=callback_id)\n",
        "    return html\n",
        "\n",
        "def RandomGenerator():\n",
        "  return time.strftime(\"%S\") + str(time.time()).split(\".\")[-1]\n",
        "\n",
        "def CheckProcess(process, command):\n",
        "  for pid in psutil.pids():\n",
        "    try:\n",
        "      p = psutil.Process(pid)\n",
        "      if process in p.name():\n",
        "        for arg in p.cmdline():\n",
        "          if command in str(arg):  \n",
        "            return True\n",
        "          else:\n",
        "            pass\n",
        "      else:\n",
        "        pass\n",
        "    except:\n",
        "      continue\n",
        "  \n",
        "def AutoSSH(name,port):\n",
        "  get_ipython().system_raw(\"autossh -l \" + name + \" -M 0 -fNT -o 'StrictHostKeyChecking=no' -o 'ServerAliveInterval 300' -o 'ServerAliveCountMax 30' -R 80:localhost:\" + port + \" ssh.localhost.run &\")\n",
        "  get_ipython().system_raw(\"autossh -M 0 -fNT -o 'StrictHostKeyChecking=no' -o 'ServerAliveInterval 300' -o 'ServerAliveCountMax 30' -R \" + name + \":80:localhost:\" + port + \" serveo.net &\")\n",
        "\n",
        "def Start_Server():\n",
        "  if CheckProcess(\"qbittorrent-nox\", \"\") != True:\n",
        "    !qbittorrent-nox -d --webui-port=6006\n",
        "  if CheckProcess(\"autossh\", \"qb\" + Random_Number) != True:\n",
        "      AutoSSH(\"qb\" + Random_Number, \"6006\")\n",
        "  if Install_File_Manager == True:\n",
        "    if os.path.isfile(\"/tools/node/bin/cloudcmd\") == False:\n",
        "      clear_output()\n",
        "      !npm i -g npm && npm i cloudcmd -g\n",
        "    if CheckProcess(\"cloudcmd\", \"\") != True:\n",
        "      get_ipython().system_raw(\"cloudcmd --online --no-auth --show-config --show-file-name --editor 'deepword' --packer 'tar' --port 7007 --progress --no-confirm-copy --confirm-move --name 'RcloneLab File Manager' --keys-panel --no-contact --console --sync-console-path --no-terminal --no-vim --columns 'name-size-date' --no-log &\")\n",
        "    if CheckProcess(\"autossh\", \"fm\" + Random_Number) != True:\n",
        "      AutoSSH(\"fm\" + Random_Number, \"7007\")\n",
        "\n",
        "try:\n",
        "  try:\n",
        "    Random_Number\n",
        "  except NameError:\n",
        "    Random_Number = RandomGenerator()\n",
        "    !rm -rf /content/{sample_data,.config}/\n",
        "  if os.path.isfile(\"/usr/bin/qbittorrent-nox\") == False:\n",
        "    !apt update -qq -y && yes \"\" | add-apt-repository ppa:qbittorrent-team/qbittorrent-stable\n",
        "    if Old_Version == True:\n",
        "      !apt install qbittorrent-nox=4.0.3-1 -qq -y\n",
        "    else:\n",
        "      !apt install qbittorrent-nox -qq -y\n",
        "    !mkdir -p -m 666 /{content/qBittorrent,root/{.qBittorrent_temp,.config/qBittorrent}} && wget -q https://minormole.github.io/RcloneLab/res/qbittorrent/qBittorrent.conf -O /root/.config/qBittorrent/qBittorrent.conf\n",
        "  if os.path.isfile(\"/usr/bin/autossh\") == False:\n",
        "    !apt install autossh -qq -y\n",
        "  Start_Server()\n",
        "  clear_output()\n",
        "  display(SuccessRun)\n",
        "  display(MakeButton(\"Recheck\", Start_Server))\n",
        "  display(HTML(\"<h2 style=\\\"font-family:Trebuchet MS;color:#446785;\\\">qBittorrent</h2><h4 style=\\\"font-family:Trebuchet MS;color:#446785;\\\"><a style=\\\"font-family:Trebuchet MS;color:#356ebf;\\\" href=\\\"http://qb\" + Random_Number + \".localhost.run\\\" target=\\\"_blank\\\">Website 1</a><br>\" \\\n",
        "               \"<a style=\\\"font-family:Trebuchet MS;color:#356ebf;\\\" href=\\\"http://qb\" + Random_Number + \".serveo.net\\\" target=\\\"_blank\\\">Website 2</a></h4>\"))\n",
        "  if Install_File_Manager == True:\n",
        "    display(HTML(\"<h2 style=\\\"font-family:Trebuchet MS;color:#446785;\\\">File Manager</h2><h4 style=\\\"font-family:Trebuchet MS;color:#446785;\\\"><a style=\\\"font-family:Trebuchet MS;color:#356ebf;\\\" href=\\\"http://fm\" + Random_Number + \".localhost.run/fs/content/\\\" target=\\\"_blank\\\">Website 1</a><br>\" \\\n",
        "               \"<a style=\\\"font-family:Trebuchet MS;color:#356ebf;\\\" href=\\\"https://fm\" + Random_Number + \".serveo.net/fs/content/\\\" target=\\\"_blank\\\">Website 2</a></h3>\"))\n",
        "except:\n",
        "  clear_output()\n",
        "  display(UnsuccessfullyRun)"
      ],
      "execution_count": 0,
      "outputs": []
    },
    {
      "cell_type": "markdown",
      "metadata": {
        "colab_type": "text",
        "id": "5-5ksQslqmYy"
      },
    }